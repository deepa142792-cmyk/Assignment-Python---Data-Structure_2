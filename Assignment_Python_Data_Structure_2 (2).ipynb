{
  "nbformat": 4,
  "nbformat_minor": 0,
  "metadata": {
    "colab": {
      "provenance": []
    },
    "kernelspec": {
      "name": "python3",
      "display_name": "Python 3"
    },
    "language_info": {
      "name": "python"
    }
  },
  "cells": [
    {
      "cell_type": "code",
      "execution_count": null,
      "metadata": {
        "id": "tOwRZBHOPOJs"
      },
      "outputs": [],
      "source": []
    },
    {
      "cell_type": "markdown",
      "source": [
        "1. What are data structures, and why are they important?\n",
        "\n",
        "    - Data structures are ways of organizing and storing data in a computer so that it can be used effectively.\n",
        "\n",
        "- Example: If data is like books, then the data structure is the bookshelf that decides how those books are arranged (by size, subject, or alphabetically).\n",
        "\n",
        "-     Common data structures:\n",
        "\n",
        "- Array → fixed-size list of items.\n",
        "\n",
        "- Stack → last-in, first-out (like a pile of plates).\n",
        "\n",
        "- Queue → first-in, first-out (like a line at a ticket counter).\n",
        "\n",
        "- Linked List → chain of connected elements.\n",
        "\n",
        "- Tree → hierarchical structure (like a family tree).\n",
        "\n",
        "- Graph → network connections (like social media).\n",
        "\n",
        "- Hash Table → key-value pairs (like a dictionary).\n",
        "\n",
        "    - Data structures are important because they make software faster, scalable, and capable of solving complex problems efficiently.\n",
        "\n",
        "2. Explain the difference between mutable and immutable data types with examples.\n",
        "\n",
        "    - Mutable vs Immutable Data Types in Python\n",
        "\n",
        "-     Mutable Data Types\n",
        "\n",
        "- Definition: These are data types whose values can be changed after creation.\n",
        "\n",
        "- You can add, remove, or modify elements without creating a new object.\n",
        "\n",
        "-  Examples:\n",
        "\n",
        "- List\n",
        "\n",
        "my_list = [1, 2, 3]\n",
        "my_list[0] = 10        # Modifying element\n",
        "print(my_list)         # Output: [10, 2, 3]\n",
        "\n",
        "\n",
        "Here, the same list is modified (no new list created).\n",
        "\n",
        "Dictionary\n",
        "\n",
        "my_dict = {\"a\": 1, \"b\": 2}\n",
        "my_dict[\"a\"] = 100\n",
        "print(my_dict)         # Output: {'a': 100, 'b': 2}\n",
        "\n",
        "-      Immutable Data Types\n",
        "\n",
        "- Definition: These are data types whose values cannot be changed after creation.\n",
        "\n",
        "- If you try to modify them, a new object is created instead.\n",
        "\n",
        "-  Examples:\n",
        "\n",
        "- String\n",
        "\n",
        "text = \"hello\"\n",
        "new_text = text.replace(\"h\", \"y\")\n",
        "print(text)       # Output: hello  (original unchanged)\n",
        "print(new_text)   # Output: yello  (new string created)\n",
        "\n",
        "\n",
        "- Tuple\n",
        "\n",
        "my_tuple = (1, 2, 3)\n",
        "# my_tuple[0] = 10   # ❌ Error: 'tuple' object does not support item assignment\n",
        "\n",
        "\n",
        "- Numbers (int, float, etc.)\n",
        "\n",
        "x = 5\n",
        "x = x + 1\n",
        "print(x)   # Output: 6\n",
        "\n",
        "\n",
        "Here, Python actually created a new integer object 6 instead of modifying 5.\n",
        "\n",
        "3. What are the main differences between lists and tuples in Python?\n",
        "\n",
        "     - The main differences between lists and tuples in Python lie in their mutability, syntax, performance, and typical use cases.\n",
        "-     Mutability\n",
        "- Lists are mutable: Their elements can be added, removed, or changed after creation.\n",
        "- Tuples are immutable: Once created, the elements of a tuple cannot be modified.\n",
        "- Syntax: Lists are defined using square brackets [].\n",
        "Python\n",
        "\n",
        "  my_list = [1, 2, \"apple\"]\n",
        "- Tuples are defined using parentheses ().\n",
        "\n",
        "  my_tuple = (1, 2, \"banana\")\n",
        "- Parentheses are optional for single-element tuples or when assigning multiple values, but generally recommended for clarity.\n",
        "- Performance and Memory:-   \n",
        "Tuples are generally faster than lists: for iteration and access because their fixed size allows for more optimized memory allocation.\n",
        "Tuples are more memory-efficient: than lists as they don't require the overhead for dynamic resizing.\n",
        "- Use Cases:-  \n",
        "Lists are suitable for collections of items that need to be modified frequently, such as a shopping cart, a list of tasks, or data that requires frequent updates.\n",
        "Tuples are ideal for collections of items that should remain constant, like database records, geographic coordinates, configuration settings, or as keys in dictionaries (due to their immutability).\n",
        "\n",
        "4.Describe how dictionaries store data ?\n",
        "\n",
        "    - A dictionary in Python is a collection that stores data as key–value pairs.\n",
        "\n",
        "- Key → unique identifier (like a word in a dictionary).\n",
        "\n",
        "- Value → the information related to that key (like the meaning of the word).\n",
        "\n",
        "-  Example:\n",
        "student = {\"name\": \"Alex\", \"age\": 21, \"course\": \"Data Science\"}\n",
        "\n",
        "Here:\n",
        "\n",
        "- \"name\" is a key → \"Alex\" is its value.\n",
        "\n",
        "- \"age\" is a key → 21 is its value.\n",
        "\n",
        "- \"course\" is a key → \"Data Science\" is its value.\n",
        "\n",
        "5. Why might you use a set instead of a list in Python ?\n",
        "\n",
        "    - Sets are often preferred over lists in Python in specific scenarios due to their inherent characteristics and performance advantages.\n",
        "-     Uniqueness of Elements:-  \n",
        "Sets automatically enforce uniqueness, meaning they cannot contain duplicate elements. If a collection of items must only contain distinct values, a set simplifies this requirement by automatically handling duplicate removal.\n",
        "\n",
        "-     Efficient Membership Testing:-   \n",
        "Sets are implemented using hash tables, which allows for very fast average-case performance (O(1) complexity) when checking if an element is present within the set (e.g., using the in operator). Lists, on the other hand, require iterating through elements, leading to potentially slower performance (O(n) complexity) for large lists\n",
        "-     Set Operations:-  \n",
        "Sets provide built-in methods for common mathematical set operations like union, intersection, difference, and symmetric difference. These operations are highly optimized and more concise to use compared to achieving the same results with lists through manual iteration and conditional logic.\n",
        "\n",
        "-     When Order is Not Important:-  \n",
        "Sets are unordered collections, meaning the order in which elements are added or retrieved is not guaranteed. If the sequence of elements is not a critical requirement for the data being stored, the unordered nature of sets is not a disadvantage and their other benefits can be leveraged.\n",
        "\n",
        "6. What is a string in Python, and how is it different from a list?\n",
        "\n",
        "    - Python, a string is an ordered sequence of characters, used to represent text. Strings are immutable, meaning their contents cannot be changed after creation. They are typically enclosed in single quotes (') or double quotes (\").\n",
        "    - A list in Python, on the other hand, is an ordered collection of items, which can be of any data type (e.g., numbers, strings, or even other lists). Lists are mutable, meaning their elements can be added, removed, or modified after the list is created. Lists are enclosed in square brackets ([]).\n",
        "Here are the key differences:-\n",
        "\n",
        "- Mutability:-Strings are immutable, while lists are mutable. This means you cannot change individual characters within an existing string; you must create a new string with the desired changes. You can, however, modify, add, or remove elements from an existing list.\n",
        "\n",
        " - Content:-  Strings are specifically designed to hold sequences of characters. Lists can hold a collection of any data type.\n",
        "\n",
        " - Syntax:- Strings are defined using single or double quotes (e.g., ```python \"hello\" ``` or ```python 'world' ```). Lists are defined using square brackets (e.g., ```python [1, 'apple', True] ```).\n",
        "\n",
        "- Operations:- While both support indexing and slicing, the specific methods available for manipulation differ. Strings have methods like upper(), lower(), split(), and replace(), while lists have methods like append(), extend(), insert(), and remove().\n",
        "\n",
        "7.How do tuples ensure data integrity in Python?\n",
        "\n",
        "    - In Python, tuples are immutable. Once a tuple is created, you cannot:\n",
        "\n",
        "- Add new elements\n",
        "\n",
        "- Remove elements\n",
        "\n",
        "- Change existing elements\n",
        "\n",
        "Because of this immutability, tuples help preserve the original data throughout the program, preventing accidental or unauthorized modifications.\n",
        "\n",
        "# Tuple (immutable)\n",
        "config = (\"127.0.0.1\", 8080, \"admin\")\n",
        "\n",
        "# Trying to modify it\n",
        "# config[0] = \"192.168.1.1\"   # ❌ Error: 'tuple' object does not support item assignment\n",
        "\n",
        "Here, the tuple config ensures the connection details remain unchanged, protecting the integrity of that configuration.\n",
        "\n",
        "8. What is a hash table, and how does it relate to dictionaries in Python?\n",
        "\n",
        "    - A hash table is a data structure that stores data in key–value pairs and provides fast access to values based on keys.\n",
        "\n",
        "It works like this:\n",
        "\n",
        "- A hash function converts a key into a numeric index.\n",
        "\n",
        "- That index points to a \"bucket\" (slot) in memory where the value is stored.\n",
        "\n",
        "- When you look up a key, Python reuses the hash function to quickly find the value.\n",
        "\n",
        "Because of this, average time complexity for lookup, insertion, and deletion in a hash table is O(1).\n",
        "\n",
        "-     How It Relates to Dictionaries in Python\n",
        "\n",
        "In Python, the built-in dict (dictionary) is implemented using a hash table.\n",
        "\n",
        "- - Keys → must be hashable (immutable types like strings, numbers, tuples).\n",
        "\n",
        "- Values → can be any object (mutable or immutable).\n",
        "\n",
        "- Collisions (when two keys hash to the same index) are handled internally by Python (usually with open addressing or chaining).\n",
        "\n",
        "9. Can lists contain different data types in Python?\n",
        "\n",
        "    - In Python, lists can contain different data types. Unlike arrays in many programming languages (where all elements must be of the same type), Python lists are very flexible because Python is a dynamically typed language.\n",
        "\n",
        "- Example\n",
        "mixed_list = [10, \"Hello\", 3.14, True, [1, 2, 3]]\n",
        "\n",
        "print(mixed_list)\n",
        "# Output: [10, 'Hello', 3.14, True, [1, 2, 3]]\n",
        "\n",
        "\n",
        "Here:\n",
        "\n",
        "- 10 → integer\n",
        "\n",
        "- \"Hello\" → string\n",
        "\n",
        "- .14 → float\n",
        "\n",
        "- True → boolean\n",
        "\n",
        "- [1, 2, 3] → another list (nested list)\n",
        "\n",
        "10. Explain why strings are immutable in Python.\n",
        "\n",
        "    - Python strings are immutable, meaning their content cannot be changed after creation. This design choice offers several advantages:\n",
        "\n",
        "- Safety and Predictability:- Immutability ensures that once a string is created, its value remains constant. This prevents unintended side effects where changes to a string in one part of a program could inadvertently affect other parts of the code that reference the same string object. This makes code more predictable and easier to debug.\n",
        "\n",
        "- Hashing and Dictionary Keys:- Immutable objects can be reliably hashed, meaning a unique hash value can be generated based on their content. This allows strings to be used as keys in dictionaries, which rely on hash values for efficient key lookups. If strings were mutable, their hash values could change, making them unsuitable as dictionary keys.\n",
        "\n",
        "- Memory Optimization:- Python can perform certain memory optimizations with immutable strings. For example, it can intern or cache frequently used strings or identical string literals, allowing multiple variables to point to the same memory location, thus saving memory. If strings were mutable, each modification would require creating a new copy, negating this optimization.\n",
        "\n",
        "- Concurrency:- In multi-threaded environments, immutable objects are inherently thread-safe because their state cannot be changed by multiple threads simultaneously, eliminating the need for complex locking mechanisms.\n",
        "\n",
        "While it might seem like string operations like concatenation or replace() modify a string, they actually create a new string object with the desired changes, leaving the original string untouched. If you want to \"modify\" a string, you assign the newly created string back to the original variable.\n",
        "\n",
        "11. What advantages do dictionaries offer over lists for certain tasks?\n",
        "\n",
        "    - Dictionaries offer significant advantages over lists for tasks that involve fast, flexible lookup, and semantic data organization. This is primarily because dictionaries store data as unique key-value pairs, while lists store ordered collections of items accessed by an integer index.\n",
        "\n",
        "12. Describe a scenario where using a tuple would be preferable over a list?\n",
        "\n",
        "    - Example Scenario: Storing Geographic Coordinates\n",
        "\n",
        "Suppose you are building a map application:\n",
        "\n",
        "# Using a tuple for coordinates\n",
        "location = (28.6139, 77.2090)   # Latitude & Longitude of New Delhi\n",
        "\n",
        "# location[0] = 30.0   # ❌ Not allowed, protects data integrity\n",
        "\n",
        "\n",
        "Here, coordinates should never be modified accidentally, so a tuple is preferable to a list.\n",
        "\n",
        "13. How do sets handle duplicate values in Python?\n",
        "\n",
        "    - A set in Python is an unordered collection of unique elements.\n",
        "\n",
        "- When you add elements to a set, Python automatically checks for duplicates.\n",
        "\n",
        "- If a duplicate is found, it is ignored (not added again).\n",
        "\n",
        "- This is possible because sets use a hash table internally (like dictionaries).\n",
        "\n",
        "\n",
        "my_set = {1, 2, 3, 2, 1, 4}\n",
        "\n",
        "print(my_set)  \n",
        "# Output: {1, 2, 3, 4}   ✅ duplicates removed\n",
        "\n",
        "14. How does the “in” keyword work differently for lists and dictionaries?\n",
        "\n",
        "    - The \"in\" keyword in Python functions differently for lists and dictionaries due to their underlying data structures and how elements are accessed.\n",
        "-     For Lists:-   \n",
        "When used with a list, the \"in\" keyword checks for the presence of a specific value within the list. It performs a linear search, iterating through each element of the list from beginning to end until a match is found or the end of the list is reached.\n",
        "\n",
        "my_list = [1, 2, 3, 4, 5]\n",
        "print(3 in my_list)  # Output: True\n",
        "print(6 in my_list)  # Output: False\n",
        "\n",
        "-      For Dictionaries:-   \n",
        "When used with a dictionary, the \"in\" keyword checks for the presence of a specific key within the dictionary. It does not check for the presence of values. Dictionaries are optimized for fast key lookups using hash tables, allowing for near-constant time complexity for this operation.\n",
        "\n",
        "my_dict = {'a': 1, 'b': 2, 'c': 3}\n",
        "print('b' in my_dict)  # Output: True\n",
        "print('d' in my_dict)  # Output: False\n",
        "print(1 in my_dict)    # Output: False (checks for key 1, not value 1)\n",
        "\n",
        "15. Can you modify the elements of a tuple? Explain why or why not?\n",
        "\n",
        "    - No, you cannot modify the elements of a tuple in Python.\n",
        "\n",
        "Here’s why:\n",
        "\n",
        "-     Immutability of Tuples\n",
        "\n",
        "- Tuples are immutable, which means once a tuple is created, its elements cannot be changed, added, or removed.\n",
        "\n",
        "- Any operation that seems to “modify” a tuple actually creates a new tuple instead of altering the original one.\n",
        "\n",
        "        \n",
        "t = (1, 2, 3)\n",
        "\n",
        "# Trying to modify an element\n",
        "# t[0] = 10    # ❌ Error: 'tuple' object does not support item assignment\n",
        "\n",
        "# Creating a new tuple instead\n",
        "t = (10,) + t[1:]\n",
        "print(t)       # Output: (10, 2, 3)\n",
        "\n",
        "\n",
        "16. What is a nested dictionary, and give an example of its use case?  \n",
        "\n",
        "    - A nested dictionary is a dictionary where at least one of the values is itself another dictionary.\n",
        "This allows you to store hierarchical or structured data in Python.\n",
        "\n",
        "\n",
        "\n",
        "-     Syntax\n",
        "nested_dict = {\n",
        "    \"key1\": {\"subkey1\": value1, \"subkey2\": value2},\n",
        "    \"key2\": {\"subkey1\": value3, \"subkey2\": value4}\n",
        "\n",
        "- Example:- Student Records\n",
        "\n",
        "Suppose you want to store multiple students with their details:\n",
        "\n",
        "students = {\n",
        "    \"Alice\": {\"age\": 22, \"grade\": \"A\", \"major\": \"Physics\"},\n",
        "    \"Bob\": {\"age\": 23, \"grade\": \"B\", \"major\": \"Mathematics\"},\n",
        "    \"Charlie\": {\"age\": 21, \"grade\": \"A\", \"major\": \"Computer Science\"}\n",
        "}\n",
        "\n",
        "# Access Bob's major\n",
        "print(students[\"Bob\"][\"major\"])  # Output: Mathematics\n",
        "\n",
        "# Add a new student\n",
        "students[\"David\"] = {\"age\": 24, \"grade\": \"B\", \"major\": \"Biology\"}\n",
        "\n",
        "- Use Case\n",
        "\n",
        "Nested dictionaries are useful when you need to store complex, hierarchical data, such as:\n",
        "\n",
        "-     JSON-like structures (APIs often return nested JSON).\n",
        "\n",
        "-     Company employee database with departments and employee details.\n",
        "\n",
        "-     Configuration settings with multiple categories and sub-settings.\n",
        "\n",
        "17. Describe the time complexity of accessing elements in a dictionary.\n",
        "\n",
        "    - Accessing elements in a dictionary, such as in Python, typically exhibits an average-case time complexity of O(1), which represents constant time. This efficiency stems from the implementation of dictionaries as hash tables.\n",
        "-      Explanation:\n",
        "- Hash Function and Buckets:- When a key-value pair is added to a dictionary, a hash function is applied to the key, producing an integer hash value. This hash value determines the \"bucket\" or memory location where the key-value pair is stored within the hash table.\n",
        "\n",
        "- Direct Access:- When an element is accessed using its key, the same hash function is applied to the key to quickly determine the correct bucket. This allows for near-instantaneous retrieval of the associated value, regardless of the dictionary's size.\n",
        "\n",
        "18. In what situations are lists preferred over dictionaries?\n",
        "\n",
        "    - Lists are preferred over dictionaries when you need an ordered, sequential collection of items, can have duplicate entries, or require less memory overhead. Dictionaries, in contrast, are better for fast lookups and representing data with unique keys.\n",
        "\n",
        "19. Why are dictionaries considered unordered, and how does that affect data retrieval?\n",
        "\n",
        "    - Dictionaries Are Considered Unordered:-\n",
        "\n",
        "- In Python versions before 3.7, dictionaries did not preserve the order of key-value pairs.\n",
        "\n",
        "- Internally, dictionaries are implemented as hash tables, where keys are stored based on their hash values, not insertion order.\n",
        "\n",
        "- This means the order in which you add keys may not match the order in which they are stored.\n",
        "\n",
        "- From Python 3.7 onwards, dictionaries preserve insertion order, but the unordered nature still matters conceptually because dictionary access does not rely on order, only on keys.\n",
        "\n",
        "-     How This Affects Data Retrieval\n",
        "\n",
        "- Access by Key, Not Position:\n",
        "\n",
        "Unlike lists, you cannot access dictionary elements by index.\n",
        "\n",
        "student = {\"name\": \"Alice\", \"age\": 22}\n",
        "# student[0] ❌  # Error: cannot access by position\n",
        "print(student[\"name\"])  # ✅ Access by key\n",
        "\n",
        "\n",
        "- Iteration Order (pre-Python 3.7):\n",
        "\n",
        "Iterating over a dictionary might give keys in any order, so you cannot rely on it.\n",
        "\n",
        "In Python 3.7+, iteration preserves insertion order, but retrieval is still key-based, not index-based.\n",
        "\n",
        "- Fast Lookups:\n",
        "\n",
        "Since dictionaries are hash table-based, you get O(1) lookup by key, regardless of the order.\n",
        "\n",
        "20. Explain the difference between a list and a dictionary in terms of data retrieval.\n",
        "\n",
        "    - Let’s compare lists and dictionaries specifically in terms of data retrieval:\n",
        "\n",
        "-     1. List Data Retrieval\n",
        "\n",
        "- Access by Index:- You retrieve elements using their position (integer index).\n",
        "\n",
        "- Order Matters:- The order of elements is important and preserved.\n",
        "\n",
        "- Time Complexity:- Searching for a value without knowing the index requires O(n) (linear search).\n",
        "\n",
        "Example\n",
        "numbers = [10, 20, 30, 40]\n",
        "\n",
        "# Access by index\n",
        "print(numbers[2])   # Output: 30\n",
        "\n",
        "# Searching for a value\n",
        "print(30 in numbers)  # O(n) search → True\n",
        "-      2. Dictionary Data Retrieval\n",
        "\n",
        "- Access by Key:- You retrieve elements using a key (not position).\n",
        "\n",
        "- Key-Based Lookup:- Order is not relevant for retrieval; lookup is key-driven.\n",
        "\n",
        "- Time Complexity:- Lookup by key is O(1) on average (hash table).\n",
        "\n",
        "Example\n",
        "student = {\"name\": \"Alice\", \"age\": 22, \"grade\": \"A\"}\n",
        "\n",
        "# Access by key\n",
        "print(student[\"age\"])  # Output: 22\n",
        "\n",
        "# Checking existence\n",
        "print(\"name\" in student)  # O(1) lookup → True\n",
        "\n",
        "\n",
        "\n"
      ],
      "metadata": {
        "id": "v17UF4y-S5s8"
      }
    },
    {
      "cell_type": "code",
      "source": [
        "1. Write a code to create a string with your name and print it.\n",
        "\n",
        "# Creating a string with my name\n",
        "name = \"Deepa Singh\"\n",
        "\n",
        "# Printing the string\n",
        "print(name)\n"
      ],
      "metadata": {
        "id": "2SiuHCn5XNte"
      },
      "execution_count": null,
      "outputs": []
    },
    {
      "cell_type": "markdown",
      "source": [
        "Deepa Singh"
      ],
      "metadata": {
        "id": "RDynKVQl-qDC"
      }
    },
    {
      "cell_type": "code",
      "source": [
        "2. Write a code to find the length of the string \"Hello World\"\n",
        "\n",
        "# Create a string\n",
        "text = \"Hello World\"\n",
        "\n",
        "# Find length using len() function\n",
        "length = len(text)\n",
        "\n",
        "# Print the result\n",
        "print(\"Length of the string:\", length)\n"
      ],
      "metadata": {
        "id": "SlXVuFtU5_pp"
      },
      "execution_count": null,
      "outputs": []
    },
    {
      "cell_type": "markdown",
      "source": [
        "Length of the string: 11"
      ],
      "metadata": {
        "id": "k9IyJF9j-0zP"
      }
    },
    {
      "cell_type": "code",
      "source": [
        "3. Write a code to slice the first 3 characters from the string \"Python Programming\"\n",
        "\n",
        "# Create the string\n",
        "text = \"Python Programming\"\n",
        "\n",
        "# Slice the first 3 characters\n",
        "first_three = text[:3]\n",
        "\n",
        "# Print the result\n",
        "print(\"First 3 characters:\", first_three)"
      ],
      "metadata": {
        "id": "BvTSUfah-1_u"
      },
      "execution_count": null,
      "outputs": []
    },
    {
      "cell_type": "markdown",
      "source": [
        "First 3 characters: Pyt\n"
      ],
      "metadata": {
        "id": "XRQO0_pTAkud"
      }
    },
    {
      "cell_type": "code",
      "source": [
        "4. Write a code to convert the string \"hello\" to uppercase.\n",
        "\n",
        "# Create the string\n",
        "text = \"hello\"\n",
        "\n",
        "# Convert to uppercase\n",
        "uppercase_text = text.upper()\n",
        "\n",
        "# Print the result\n",
        "print(\"Uppercase string:\", uppercase_text)"
      ],
      "metadata": {
        "id": "cnPKvbOq-s0p"
      },
      "execution_count": null,
      "outputs": []
    },
    {
      "cell_type": "markdown",
      "source": [
        "Uppercase string: HELLO\n"
      ],
      "metadata": {
        "id": "U4B4aP6mA2IM"
      }
    },
    {
      "cell_type": "code",
      "source": [
        "5. Write a code to replace the word \"apple\" with \"orange\" in the string \"I like apple\".\n",
        "\n",
        "# Create the string\n",
        "text = \"I like apple\"\n",
        "\n",
        "# Replace 'apple' with 'orange'\n",
        "new_text = text.replace(\"apple\", \"orange\")\n",
        "\n",
        "# Print the result\n",
        "print(new_text)"
      ],
      "metadata": {
        "id": "5Up1tbXSA5C9"
      },
      "execution_count": null,
      "outputs": []
    },
    {
      "cell_type": "markdown",
      "source": [
        "I like orange\n"
      ],
      "metadata": {
        "id": "2qTckDsXBIeq"
      }
    },
    {
      "cell_type": "code",
      "source": [
        "6.  Write a code to create a list with numbers 1 to 5 and print it.\n",
        "\n",
        "# Create a list with numbers 1 to 5\n",
        "numbers = [1, 2, 3, 4, 5]\n",
        "\n",
        "# Print the list\n",
        "print(numbers)"
      ],
      "metadata": {
        "id": "oDd-WDRHBJ7O"
      },
      "execution_count": null,
      "outputs": []
    },
    {
      "cell_type": "markdown",
      "source": [
        "[1, 2, 3, 4, 5]\n"
      ],
      "metadata": {
        "id": "7U_0yCLWBVUs"
      }
    },
    {
      "cell_type": "code",
      "source": [
        "7. Write a code to append the number 10 to the list [1, 2, 3, 4]\n",
        "\n",
        "# Create the list\n",
        "numbers = [1, 2, 3, 4]\n",
        "\n",
        "# Append 10 to the list\n",
        "numbers.append(10)\n",
        "\n",
        "# Print the updated list\n",
        "print(numbers)\n"
      ],
      "metadata": {
        "id": "A_VSJFQFBF8v"
      },
      "execution_count": null,
      "outputs": []
    },
    {
      "cell_type": "markdown",
      "source": [
        "[1, 2, 3, 4, 10]\n"
      ],
      "metadata": {
        "id": "cMSn9tp1BjA6"
      }
    },
    {
      "cell_type": "code",
      "source": [
        "8. Write a code to remove the number 3 from the list [1, 2, 3, 4, 5]\n",
        "\n",
        "# Create the list\n",
        "numbers = [1, 2, 3, 4, 5]\n",
        "\n",
        "# Remove the number 3\n",
        "numbers.remove(3)\n",
        "\n",
        "# Print the updated list\n",
        "print(numbers)\n"
      ],
      "metadata": {
        "id": "mwBm8lJ2AnhC"
      },
      "execution_count": null,
      "outputs": []
    },
    {
      "cell_type": "markdown",
      "source": [
        "[1, 2, 4, 5]\n"
      ],
      "metadata": {
        "id": "ah40TnImBvcs"
      }
    },
    {
      "cell_type": "code",
      "source": [
        "9. Write a code to access the second element in the list ['a', 'b', 'c', 'd'].\n",
        "\n",
        "# Create the list\n",
        "letters = ['a', 'b', 'c', 'd']\n",
        "\n",
        "# Access the second element (index 1, since indexing starts at 0)\n",
        "second_element = letters[1]\n",
        "\n",
        "# Print the result\n",
        "print(\"Second element:\", second_element)\n"
      ],
      "metadata": {
        "id": "l3tW-iRRBy0D"
      },
      "execution_count": null,
      "outputs": []
    },
    {
      "cell_type": "markdown",
      "source": [
        "Second element: b\n"
      ],
      "metadata": {
        "id": "PLwqfAz5B944"
      }
    },
    {
      "cell_type": "code",
      "source": [
        "10. Write a code to reverse the list [10, 20, 30, 40, 50].\n",
        "\n",
        "# Create the list\n",
        "numbers = [10, 20, 30, 40, 50]\n",
        "\n",
        "# Reverse the list\n",
        "numbers.reverse()\n",
        "\n",
        "# Print the reversed list\n",
        "print(numbers)\n"
      ],
      "metadata": {
        "id": "hAmzWusdCAHO"
      },
      "execution_count": null,
      "outputs": []
    },
    {
      "cell_type": "markdown",
      "source": [
        "[50, 40, 30, 20, 10]\n"
      ],
      "metadata": {
        "id": "lgcw5DOeCOv4"
      }
    },
    {
      "cell_type": "code",
      "source": [
        "11. Write a code to create a tuple with the elements 100, 200, 300 and print it.\n",
        "\n",
        "# Create a tuple\n",
        "numbers = (100, 200, 300)\n",
        "\n",
        "# Print the tuple\n",
        "print(numbers)\n"
      ],
      "metadata": {
        "id": "h36XFpjWCRFh"
      },
      "execution_count": null,
      "outputs": []
    },
    {
      "cell_type": "markdown",
      "source": [
        "(100, 200, 300)\n"
      ],
      "metadata": {
        "id": "n_mkxJ1lCdAu"
      }
    },
    {
      "cell_type": "code",
      "source": [
        "12. Write a code to access the second-to-last element of the tuple ('red', 'green', 'blue', 'yellow').\n",
        "\n",
        "# Create the tuple\n",
        "colors = ('red', 'green', 'blue', 'yellow')\n",
        "\n",
        "# Access the second-to-last element using negative indexing\n",
        "second_to_last = colors[-2]\n",
        "\n",
        "# Print the result\n",
        "print(\"Second-to-last element:\", second_to_last)\n"
      ],
      "metadata": {
        "id": "dMYjfkW8CgdH"
      },
      "execution_count": null,
      "outputs": []
    },
    {
      "cell_type": "markdown",
      "source": [
        "Second-to-last element: blue\n"
      ],
      "metadata": {
        "id": "WA5dwyVDCsUq"
      }
    },
    {
      "cell_type": "code",
      "source": [
        "13. Write a code to find the minimum number in the tuple (10, 20, 5, 15).\n",
        "\n",
        "# Create the tuple\n",
        "numbers = (10, 20, 5, 15)\n",
        "\n",
        "# Find the minimum number\n",
        "min_number = min(numbers)\n",
        "\n",
        "# Print the result\n",
        "print(\"Minimum number:\", min_number)\n"
      ],
      "metadata": {
        "id": "2RiUiVJiCunV"
      },
      "execution_count": null,
      "outputs": []
    },
    {
      "cell_type": "markdown",
      "source": [
        "Minimum number: 5\n"
      ],
      "metadata": {
        "id": "skvfvCC2C9mc"
      }
    },
    {
      "cell_type": "code",
      "source": [
        "14. Write a code to find the index of the element \"cat\" in the tuple ('dog', 'cat', 'rabbit').\n",
        "\n",
        "# Create the tuple\n",
        "animals = ('dog', 'cat', 'rabbit')\n",
        "\n",
        "# Find the index of 'cat'\n",
        "index_cat = animals.index('cat')\n",
        "\n",
        "# Print the result\n",
        "print(\"Index of 'cat':\", index_cat)\n"
      ],
      "metadata": {
        "id": "nCTvxvTWDAmQ"
      },
      "execution_count": null,
      "outputs": []
    },
    {
      "cell_type": "markdown",
      "source": [
        "Index of 'cat': 1\n"
      ],
      "metadata": {
        "id": "uu-o_bhBDMm-"
      }
    },
    {
      "cell_type": "code",
      "source": [
        "15. . Write a code to create a tuple containing three different fruits and check if \"kiwi\" is in it.\n",
        "\n",
        "# Create a tuple with three fruits\n",
        "fruits = (\"apple\", \"banana\", \"orange\")\n",
        "\n",
        "# Check if \"kiwi\" is in the tuple\n",
        "if \"kiwi\" in fruits:\n",
        "    print(\"Kiwi is in the tuple\")\n",
        "else:\n",
        "    print(\"Kiwi is not in the tuple\")\n"
      ],
      "metadata": {
        "id": "mQqUB0_KDQKG"
      },
      "execution_count": null,
      "outputs": []
    },
    {
      "cell_type": "markdown",
      "source": [
        "Kiwi is not in the tuple\n"
      ],
      "metadata": {
        "id": "tMAu_8yoDiQp"
      }
    },
    {
      "cell_type": "code",
      "source": [
        "16.  Write a code to create a set with the elements 'a', 'b', 'c' and print it.\n",
        "\n",
        "# Create a set\n",
        "letters = {'a', 'b', 'c'}\n",
        "\n",
        "# Print the set\n",
        "print(letters)\n"
      ],
      "metadata": {
        "id": "9We7I6r4DoKW"
      },
      "execution_count": null,
      "outputs": []
    },
    {
      "cell_type": "markdown",
      "source": [
        "{'a', 'b', 'c'}\n"
      ],
      "metadata": {
        "id": "5q9Z5vqBDxvU"
      }
    },
    {
      "cell_type": "code",
      "source": [
        "17. Write a code to clear all elements from the set {1, 2, 3, 4, 5}.\n",
        "\n",
        "# Create the set\n",
        "numbers = {1, 2, 3, 4, 5}\n",
        "\n",
        "# Clear all elements\n",
        "numbers.clear()\n",
        "\n",
        "# Print the cleared set\n",
        "print(numbers)\n"
      ],
      "metadata": {
        "id": "c_-qyJ32Dz6F"
      },
      "execution_count": null,
      "outputs": []
    },
    {
      "cell_type": "markdown",
      "source": [
        "set()\n"
      ],
      "metadata": {
        "id": "uSXaaFFPD7If"
      }
    },
    {
      "cell_type": "code",
      "source": [
        "18.  Write a code to remove the element 4 from the set {1, 2, 3, 4}.\n",
        "\n",
        "# Create the set\n",
        "numbers = {1, 2, 3, 4}\n",
        "\n",
        "# Remove the element 4\n",
        "numbers.remove(4)\n",
        "\n",
        "# Print the updated set\n",
        "print(numbers)\n"
      ],
      "metadata": {
        "id": "q9P6OJrTD93Z"
      },
      "execution_count": null,
      "outputs": []
    },
    {
      "cell_type": "markdown",
      "source": [
        "{1, 2, 3}\n"
      ],
      "metadata": {
        "id": "aVIEBPekEE7x"
      }
    },
    {
      "cell_type": "code",
      "source": [
        "19.  Write a code to find the union of two sets {1, 2, 3} and {3, 4, 5}.\n",
        "\n",
        "# Create the sets\n",
        "set1 = {1, 2, 3}\n",
        "set2 = {3, 4, 5}\n",
        "\n",
        "# Find the union of the two sets\n",
        "union_set = set1.union(set2)\n",
        "\n",
        "# Print the result\n",
        "print(\"Union of the sets:\", union_set)\n"
      ],
      "metadata": {
        "id": "uwzBoMJjEHQN"
      },
      "execution_count": null,
      "outputs": []
    },
    {
      "cell_type": "markdown",
      "source": [
        "Union of the sets: {1, 2, 3, 4, 5}\n"
      ],
      "metadata": {
        "id": "4Ij1NsmdEPci"
      }
    },
    {
      "cell_type": "code",
      "source": [
        "20. Write a code to find the intersection of two sets {1, 2, 3} and {2, 3, 4}.\n",
        "\n",
        "# Create the sets\n",
        "set1 = {1, 2, 3}\n",
        "set2 = {2, 3, 4}\n",
        "\n",
        "# Find the intersection of the two sets\n",
        "intersection_set = set1.intersection(set2)\n",
        "\n",
        "# Print the result\n",
        "print(\"Intersection of the sets:\", intersection_set)\n"
      ],
      "metadata": {
        "id": "DreszTIGER9J"
      },
      "execution_count": null,
      "outputs": []
    },
    {
      "cell_type": "markdown",
      "source": [
        "Intersection of the sets: {2, 3}\n"
      ],
      "metadata": {
        "id": "xG0bWelPEaBA"
      }
    },
    {
      "cell_type": "code",
      "source": [
        "21.  Write a code to create a dictionary with the keys \"name\", \"age\", and \"city\", and print it.\n",
        "\n",
        "# Create the dictionary\n",
        "person = {\n",
        "    \"name\": \"Alice\",\n",
        "    \"age\": 25,\n",
        "    \"city\": \"New York\"\n",
        "}\n",
        "\n",
        "# Print the dictionary\n",
        "print(person)\n"
      ],
      "metadata": {
        "id": "ezizw3J4Ecfw"
      },
      "execution_count": null,
      "outputs": []
    },
    {
      "cell_type": "markdown",
      "source": [
        "{'name': 'Alice', 'age': 25, 'city': 'New York'}\n"
      ],
      "metadata": {
        "id": "vquNk-XNEnYR"
      }
    },
    {
      "cell_type": "code",
      "source": [
        "22.  Write a code to add a new key-value pair \"country\": \"USA\" to the dictionary {'name': 'John', 'age': 25}.\n",
        "\n",
        "# Create the dictionary\n",
        "person = {'name': 'John', 'age': 25}\n",
        "\n",
        "# Add a new key-value pair\n",
        "person['country'] = 'USA'\n",
        "\n",
        "# Print the updated dictionary\n",
        "print(person)\n"
      ],
      "metadata": {
        "id": "v6O0kf-WEpyZ"
      },
      "execution_count": null,
      "outputs": []
    },
    {
      "cell_type": "markdown",
      "source": [
        "{'name': 'John', 'age': 25, 'country': 'USA'}\n"
      ],
      "metadata": {
        "id": "OqdqOeBfExHu"
      }
    },
    {
      "cell_type": "code",
      "source": [
        "23. Write a code to access the value associated with the key \"name\" in the dictionary {'name': 'Alice', 'age': 30}.\n",
        "\n",
        "# Create the dictionary\n",
        "person = {'name': 'Alice', 'age': 30}\n",
        "\n",
        "# Access the value for the key \"name\"\n",
        "name_value = person['name']\n",
        "\n",
        "# Print the value\n",
        "print(\"Value associated with 'name':\", name_value)\n"
      ],
      "metadata": {
        "id": "3Ef3phu2EzWy"
      },
      "execution_count": null,
      "outputs": []
    },
    {
      "cell_type": "markdown",
      "source": [
        "Value associated with 'name': Alice\n"
      ],
      "metadata": {
        "id": "D2N4FBogE6sU"
      }
    },
    {
      "cell_type": "code",
      "source": [
        "24.  Write a code to remove the key \"age\" from the dictionary {'name': 'Bob', 'age': 22, 'city': 'New York'}.\n",
        "\n",
        "# Create the dictionary\n",
        "person = {'name': 'Bob', 'age': 22, 'city': 'New York'}\n",
        "\n",
        "# Remove the key \"age\"\n",
        "person.pop('age')\n",
        "\n",
        "# Print the updated dictionary\n",
        "print(person)\n"
      ],
      "metadata": {
        "id": "xYAf0RJuE-IS"
      },
      "execution_count": null,
      "outputs": []
    },
    {
      "cell_type": "markdown",
      "source": [
        "{'name': 'Bob', 'city': 'New York'}\n"
      ],
      "metadata": {
        "id": "WW74p0tsFFQP"
      }
    },
    {
      "cell_type": "code",
      "source": [
        "25.  Write a code to check if the key \"city\" exists in the dictionary {'name': 'Alice', 'city': 'Paris'}.\n",
        "\n",
        "# Create the dictionary\n",
        "person = {'name': 'Alice', 'city': 'Paris'}\n",
        "\n",
        "# Check if the key \"city\" exists\n",
        "if 'city' in person:\n",
        "    print(\"The key 'city' exists in the dictionary.\")\n",
        "else:\n",
        "    print(\"The key 'city' does not exist in the dictionary.\")\n"
      ],
      "metadata": {
        "id": "KYnq7hBeFHSE"
      },
      "execution_count": null,
      "outputs": []
    },
    {
      "cell_type": "markdown",
      "source": [
        "The key 'city' exists in the dictionary.\n"
      ],
      "metadata": {
        "id": "tP53FwD1FQYK"
      }
    },
    {
      "cell_type": "code",
      "source": [
        "26.  Write a code to create a list, a tuple, and a dictionary, and print them all.\n",
        "\n",
        "# Create a list\n",
        "my_list = [1, 2, 3]\n",
        "\n",
        "# Create a tuple\n",
        "my_tuple = (4, 5, 6)\n",
        "\n",
        "# Create a dictionary\n",
        "my_dict = {\"name\": \"Alice\", \"age\": 25}\n",
        "\n",
        "# Print all of them\n",
        "print(\"List:\", my_list)\n",
        "print(\"Tuple:\", my_tuple)\n",
        "print(\"Dictionary:\", my_dict)\n"
      ],
      "metadata": {
        "id": "Sh_XaVPRFSxh"
      },
      "execution_count": null,
      "outputs": []
    },
    {
      "cell_type": "markdown",
      "source": [
        "List: [1, 2, 3]\n",
        "Tuple: (4, 5, 6)\n",
        "Dictionary: {'name': 'Alice', 'age': 25}\n"
      ],
      "metadata": {
        "id": "otj0Do87Fdmq"
      }
    },
    {
      "cell_type": "code",
      "source": [
        "27.  Write a code to create a list of 5 random numbers between 1 and 100, sort it in ascending order, and print the\n",
        "result.(replaced)\n",
        "\n",
        "import random\n",
        "\n",
        "# Create a list of 5 random numbers between 1 and 100\n",
        "random_numbers = [random.randint(1, 100) for _ in range(5)]\n",
        "\n",
        "# Sort the list in ascending order\n",
        "random_numbers.sort()\n",
        "\n",
        "# Print the sorted list\n",
        "print(\"Sorted random numbers:\", random_numbers)\n"
      ],
      "metadata": {
        "id": "8Z-20KJJFh1O"
      },
      "execution_count": null,
      "outputs": []
    },
    {
      "cell_type": "markdown",
      "source": [
        "Sorted random numbers: [12, 27, 45, 68, 91]\n"
      ],
      "metadata": {
        "id": "Brf2V841FpkV"
      }
    },
    {
      "cell_type": "code",
      "source": [
        "28.  Write a code to create a list with strings and print the element at the third index.\n",
        "\n",
        "# Create a list of strings\n",
        "fruits = [\"apple\", \"banana\", \"cherry\", \"date\", \"elderberry\"]\n",
        "\n",
        "# Access the element at the third index (index 3)\n",
        "third_index_element = fruits[3]\n",
        "\n",
        "# Print the result\n",
        "print(\"Element at index 3:\", third_index_element)\n"
      ],
      "metadata": {
        "id": "hQ6gms51Fr4S"
      },
      "execution_count": null,
      "outputs": []
    },
    {
      "cell_type": "markdown",
      "source": [
        "Element at index 3: date\n"
      ],
      "metadata": {
        "id": "mSrCBhphFywJ"
      }
    },
    {
      "cell_type": "code",
      "source": [
        "29.  Write a code to combine two dictionaries into one and print the result.\n",
        "\n",
        "# Create two dictionaries\n",
        "dict1 = {\"name\": \"Alice\", \"age\": 25}\n",
        "dict2 = {\"city\": \"Paris\", \"country\": \"France\"}\n",
        "\n",
        "# Combine the dictionaries\n",
        "combined_dict = {**dict1, **dict2}\n",
        "\n",
        "# Print the result\n",
        "print(\"Combined dictionary:\", combined_dict)\n"
      ],
      "metadata": {
        "id": "LxC6L1yfF1ru"
      },
      "execution_count": null,
      "outputs": []
    },
    {
      "cell_type": "markdown",
      "source": [
        "Combined dictionary: {'name': 'Alice', 'age': 25, 'city': 'Paris', 'country': 'France'}\n"
      ],
      "metadata": {
        "id": "ZsWtzkMgF_b7"
      }
    },
    {
      "cell_type": "code",
      "source": [
        "30. Write a code to convert a list of strings into a set.\n",
        "\n",
        "# Create a list of strings\n",
        "fruits_list = [\"apple\", \"banana\", \"cherry\", \"apple\", \"banana\"]\n",
        "\n",
        "# Convert the list to a set\n",
        "fruits_set = set(fruits_list)\n",
        "\n",
        "# Print the set\n",
        "print(\"Set of fruits:\", fruits_set)\n"
      ],
      "metadata": {
        "id": "sk4k-P2vGBuY"
      },
      "execution_count": null,
      "outputs": []
    },
    {
      "cell_type": "markdown",
      "source": [
        "Set of fruits: {'cherry', 'apple', 'banana'}\n"
      ],
      "metadata": {
        "id": "mTuoNkzHGIGl"
      }
    }
  ]
}